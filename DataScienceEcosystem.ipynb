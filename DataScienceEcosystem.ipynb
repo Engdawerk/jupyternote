{
 "cells": [
  {
   "cell_type": "markdown",
   "id": "1e9ac2e8-90a3-4456-92b5-da7a87b3df83",
   "metadata": {},
   "source": [
    "# H1: Data Science Tools and Ecosystem"
   ]
  },
  {
   "cell_type": "markdown",
   "id": "d9417cb5-6343-4c15-b7e9-db540ce04cca",
   "metadata": {},
   "source": [
    "In this notebook, Data Science Tools and Ecosystem are summarized."
   ]
  },
  {
   "cell_type": "markdown",
   "id": "d786ca84-8d89-4ed3-9d14-908d030e77f8",
   "metadata": {},
   "source": [
    "Some of the popular languages that Data Scientists use are:\n",
    "1. PYTHON\n",
    "2. R\n",
    "3. JAVA\n",
    "4. JAVASCRIPT"
   ]
  },
  {
   "cell_type": "markdown",
   "id": "a076aeb0-4047-4a0d-aec0-48a99eeb565c",
   "metadata": {},
   "source": [
    "Some of the commonly used libraries used by Data Scientists include:\n",
    "1. PANDAS\n",
    "2. NUMPY\n",
    "3. Scikit-Learn\n",
    "4. Matplotlib"
   ]
  },
  {
   "cell_type": "markdown",
   "id": "cabffeaf-7440-44b2-8a6a-56c9e953dca1",
   "metadata": {},
   "source": [
    "|Data Science Tools|\n",
    "|--------------------|\n",
    "|RStudio|\n",
    "|Apache Spark|\n",
    "|PyCharm|"
   ]
  },
  {
   "cell_type": "markdown",
   "id": "07eabcc7-bd93-424b-b1e1-ca04fd4059f3",
   "metadata": {},
   "source": [
    "### H3: Below are a few examples of evaluating arithmetic expressions in Python"
   ]
  },
  {
   "cell_type": "markdown",
   "id": "8f3d7f87-4177-40f4-be01-bfcf0b3550fa",
   "metadata": {},
   "source": [
    " This a simple arithmetic expression to mutiply then add integers"
   ]
  },
  {
   "cell_type": "code",
   "execution_count": 1,
   "id": "b6a013dc-b933-4dfe-af50-480cc1a91c00",
   "metadata": {},
   "outputs": [
    {
     "data": {
      "text/plain": [
       "17"
      ]
     },
     "execution_count": 1,
     "metadata": {},
     "output_type": "execute_result"
    }
   ],
   "source": [
    "(3*4)+5"
   ]
  },
  {
   "cell_type": "markdown",
   "id": "8f060ad0-6981-4568-aa1a-a4f8c89a1cf2",
   "metadata": {},
   "source": [
    "This will convert 200 minutes to hours by diving by 60"
   ]
  },
  {
   "cell_type": "code",
   "execution_count": 2,
   "id": "4233dfcf-f2b7-4efa-a630-862ff3ccb247",
   "metadata": {},
   "outputs": [
    {
     "data": {
      "text/plain": [
       "3"
      ]
     },
     "execution_count": 2,
     "metadata": {},
     "output_type": "execute_result"
    }
   ],
   "source": [
    "200//60"
   ]
  },
  {
   "cell_type": "markdown",
   "id": "e6db0bc9-814c-4f5b-a126-fe4898b6d14a",
   "metadata": {},
   "source": [
    "## H2: Author"
   ]
  },
  {
   "cell_type": "markdown",
   "id": "bc8f84a9-e237-4cda-a31e-7e299448673b",
   "metadata": {},
   "source": [
    "Engdawerk Kebede"
   ]
  },
  {
   "cell_type": "code",
   "execution_count": null,
   "id": "2034b9f9-6ef8-44cc-83c1-61052da5e920",
   "metadata": {},
   "outputs": [],
   "source": []
  }
 ],
 "metadata": {
  "kernelspec": {
   "display_name": "Python 3 (ipykernel)",
   "language": "python",
   "name": "python3"
  },
  "language_info": {
   "codemirror_mode": {
    "name": "ipython",
    "version": 3
   },
   "file_extension": ".py",
   "mimetype": "text/x-python",
   "name": "python",
   "nbconvert_exporter": "python",
   "pygments_lexer": "ipython3",
   "version": "3.12.3"
  }
 },
 "nbformat": 4,
 "nbformat_minor": 5
}
